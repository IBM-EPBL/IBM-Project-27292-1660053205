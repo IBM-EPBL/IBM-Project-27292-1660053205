{
  "nbformat": 4,
  "nbformat_minor": 0,
  "metadata": {
    "colab": {
      "provenance": [],
      "authorship_tag": "ABX9TyM/3rORqVtzl13vzMAuNXGN",
      "include_colab_link": true
    },
    "kernelspec": {
      "name": "python3",
      "display_name": "Python 3"
    },
    "language_info": {
      "name": "python"
    }
  },
  "cells": [
    {
      "cell_type": "markdown",
      "metadata": {
        "id": "view-in-github",
        "colab_type": "text"
      },
      "source": [
        "<a href=\"https://colab.research.google.com/github/IBM-EPBL/IBM-Project-27292-1660053205/blob/main/Assignment_1.ipynb\" target=\"_parent\"><img src=\"https://colab.research.google.com/assets/colab-badge.svg\" alt=\"Open In Colab\"/></a>"
      ]
    },
    {
      "cell_type": "markdown",
      "source": [
        "## Basic Python"
      ],
      "metadata": {
        "id": "Kuj_V8vONPWc"
      }
    },
    {
      "cell_type": "markdown",
      "source": [
        "### 1 . Split the string"
      ],
      "metadata": {
        "id": "T_jVY1yHNbje"
      }
    },
    {
      "cell_type": "code",
      "execution_count": 1,
      "metadata": {
        "colab": {
          "base_uri": "https://localhost:8080/"
        },
        "id": "fsUU0OxINHk7",
        "outputId": "10583396-26f1-4c6d-ea5c-ecc75f310e14"
      },
      "outputs": [
        {
          "output_type": "stream",
          "name": "stdout",
          "text": [
            "['Hi', 'there', 'Sam!']\n"
          ]
        }
      ],
      "source": [
        "s = \"Hi there Sam!\"\n",
        "print(s.split(' '))"
      ]
    },
    {
      "cell_type": "markdown",
      "source": [
        "### 2. Use .format() to print the following string."
      ],
      "metadata": {
        "id": "Wg0ay2-0Nrlv"
      }
    },
    {
      "cell_type": "markdown",
      "source": [
        "Output should be: The diameter of Earth is 12742 kilometers."
      ],
      "metadata": {
        "id": "6gxY2hkwNxcI"
      }
    },
    {
      "cell_type": "code",
      "source": [
        "planet = \"Earth\"\n",
        "diameter = 12742\n",
        "print(\"The diameter of {} is {} kilometers.\".format(planet,diameter))"
      ],
      "metadata": {
        "colab": {
          "base_uri": "https://localhost:8080/"
        },
        "id": "bD4GUYSfNnmH",
        "outputId": "b4c951c0-659f-499d-ab49-f728bb2a2f52"
      },
      "execution_count": 2,
      "outputs": [
        {
          "output_type": "stream",
          "name": "stdout",
          "text": [
            "The diameter of Earth is 12742 kilometers.\n"
          ]
        }
      ]
    },
    {
      "cell_type": "markdown",
      "source": [
        "### 3. In this nest dictionary grab the word \"hello\""
      ],
      "metadata": {
        "id": "lzFZjItIN7pu"
      }
    },
    {
      "cell_type": "code",
      "source": [
        "d = {'k1':[1,2,3,{'tricky':['oh','man','inception',{'target':[1,2,3,'hello']}]}]}\n",
        "print(d['k1'][3]['tricky'][3]['target'][3])"
      ],
      "metadata": {
        "colab": {
          "base_uri": "https://localhost:8080/"
        },
        "id": "063Gy0gvN3I_",
        "outputId": "1af7c47a-331d-4110-922f-5123705e2c27"
      },
      "execution_count": 3,
      "outputs": [
        {
          "output_type": "stream",
          "name": "stdout",
          "text": [
            "hello\n"
          ]
        }
      ]
    },
    {
      "cell_type": "markdown",
      "source": [
        "# Numpy"
      ],
      "metadata": {
        "id": "A6R_iiy7N33b"
      }
    },
    {
      "cell_type": "code",
      "source": [
        "import numpy as np"
      ],
      "metadata": {
        "id": "xOMUlhctOFbp"
      },
      "execution_count": 4,
      "outputs": []
    },
    {
      "cell_type": "markdown",
      "source": [
        "### 4.1 Create an array of 10 zeros?"
      ],
      "metadata": {
        "id": "tQxWXmTLONlo"
      }
    },
    {
      "cell_type": "code",
      "source": [
        "a=np.zeros(10)\n",
        "print(a)"
      ],
      "metadata": {
        "colab": {
          "base_uri": "https://localhost:8080/"
        },
        "id": "nLm23Zl9OJz6",
        "outputId": "aff41890-d67d-451d-8b4a-bc5727fc48a3"
      },
      "execution_count": 5,
      "outputs": [
        {
          "output_type": "stream",
          "name": "stdout",
          "text": [
            "[0. 0. 0. 0. 0. 0. 0. 0. 0. 0.]\n"
          ]
        }
      ]
    },
    {
      "cell_type": "markdown",
      "source": [
        "### 4.2 Create an array of 10 fives?"
      ],
      "metadata": {
        "id": "5F0KZfyPOWzH"
      }
    },
    {
      "cell_type": "code",
      "source": [
        "a=np.ones(10)*5\n",
        "print(a)"
      ],
      "metadata": {
        "colab": {
          "base_uri": "https://localhost:8080/"
        },
        "id": "MXuVD47AOTe3",
        "outputId": "4ba8cc1c-cdda-4ae1-d70e-3b5f5fd3ba08"
      },
      "execution_count": 6,
      "outputs": [
        {
          "output_type": "stream",
          "name": "stdout",
          "text": [
            "[5. 5. 5. 5. 5. 5. 5. 5. 5. 5.]\n"
          ]
        }
      ]
    },
    {
      "cell_type": "markdown",
      "source": [
        "### 5. Create an array of all the even integers from 20 to 35"
      ],
      "metadata": {
        "id": "XdqCtu_zOe0y"
      }
    },
    {
      "cell_type": "code",
      "source": [
        "a=np.arange(20,35,2)\n",
        "print(a)"
      ],
      "metadata": {
        "colab": {
          "base_uri": "https://localhost:8080/"
        },
        "id": "uijCa0xaOcC5",
        "outputId": "f8a185c3-005e-4b7b-b4b7-e8397c360489"
      },
      "execution_count": 7,
      "outputs": [
        {
          "output_type": "stream",
          "name": "stdout",
          "text": [
            "[20 22 24 26 28 30 32 34]\n"
          ]
        }
      ]
    },
    {
      "cell_type": "markdown",
      "source": [
        "### 6. Create a 3x3 matrix with values ranging from 0 to 8"
      ],
      "metadata": {
        "id": "OtE_kX2WOmXz"
      }
    },
    {
      "cell_type": "code",
      "source": [
        "a=np.arange(9).reshape(3,3)\n",
        "print(a)"
      ],
      "metadata": {
        "colab": {
          "base_uri": "https://localhost:8080/"
        },
        "id": "64UvfnqmOjoh",
        "outputId": "f21369e5-cc05-40f1-abca-ffb67b3409c2"
      },
      "execution_count": 8,
      "outputs": [
        {
          "output_type": "stream",
          "name": "stdout",
          "text": [
            "[[0 1 2]\n",
            " [3 4 5]\n",
            " [6 7 8]]\n"
          ]
        }
      ]
    },
    {
      "cell_type": "markdown",
      "source": [
        "### 7. Concatenate a and b"
      ],
      "metadata": {
        "id": "VA4ZsU9NOu0C"
      }
    },
    {
      "cell_type": "code",
      "source": [
        "a = np.array([1, 2, 3])\n",
        "b = np.array([4, 5, 6])\n",
        "print(np.concatenate((a,b),axis=0))"
      ],
      "metadata": {
        "colab": {
          "base_uri": "https://localhost:8080/"
        },
        "id": "0s4htHZIOrT_",
        "outputId": "8fb1cf6f-1b53-4aa9-c31f-07dbe62c8f1c"
      },
      "execution_count": 9,
      "outputs": [
        {
          "output_type": "stream",
          "name": "stdout",
          "text": [
            "[1 2 3 4 5 6]\n"
          ]
        }
      ]
    },
    {
      "cell_type": "markdown",
      "source": [
        "# Pandas"
      ],
      "metadata": {
        "id": "lieGY1L6O3Eo"
      }
    },
    {
      "cell_type": "code",
      "source": [
        "import pandas as pd"
      ],
      "metadata": {
        "id": "EC6Jqe9kOz3C"
      },
      "execution_count": 10,
      "outputs": []
    },
    {
      "cell_type": "markdown",
      "source": [
        "### 8. Create a dataframe with 3 rows and 2 columns"
      ],
      "metadata": {
        "id": "QafwF8vQO-L7"
      }
    },
    {
      "cell_type": "code",
      "source": [
        "Name = ['Siva', 'Mohan', 'Reddy']\n",
        "Age = [25, 30, 26]\n",
        "list_of_tuples = list(zip(Name, Age))\n",
        "df = pd.DataFrame(list_of_tuples,columns=['Name', 'Age'])\n",
        "print(df)"
      ],
      "metadata": {
        "colab": {
          "base_uri": "https://localhost:8080/"
        },
        "id": "F6gv0NibO7rR",
        "outputId": "4ca556a2-f8e5-4f4f-a2a0-66d8f9dd5708"
      },
      "execution_count": 11,
      "outputs": [
        {
          "output_type": "stream",
          "name": "stdout",
          "text": [
            "    Name  Age\n",
            "0   Siva   25\n",
            "1  Mohan   30\n",
            "2  Reddy   26\n"
          ]
        }
      ]
    },
    {
      "cell_type": "markdown",
      "source": [
        "### 9. Generate the series of dates from 1st Jan, 2023 to 10th Feb, 2023"
      ],
      "metadata": {
        "id": "4Z7l2lOhPGdB"
      }
    },
    {
      "cell_type": "code",
      "source": [
        "a=pd.date_range(start ='1-1-2023',end ='10-2-2023')   \n",
        "print(a)"
      ],
      "metadata": {
        "colab": {
          "base_uri": "https://localhost:8080/"
        },
        "id": "nNarFMjQPC3A",
        "outputId": "bc8982f5-14e1-4243-d7c1-b7d385068118"
      },
      "execution_count": 12,
      "outputs": [
        {
          "output_type": "stream",
          "name": "stdout",
          "text": [
            "DatetimeIndex(['2023-01-01', '2023-01-02', '2023-01-03', '2023-01-04',\n",
            "               '2023-01-05', '2023-01-06', '2023-01-07', '2023-01-08',\n",
            "               '2023-01-09', '2023-01-10',\n",
            "               ...\n",
            "               '2023-09-23', '2023-09-24', '2023-09-25', '2023-09-26',\n",
            "               '2023-09-27', '2023-09-28', '2023-09-29', '2023-09-30',\n",
            "               '2023-10-01', '2023-10-02'],\n",
            "              dtype='datetime64[ns]', length=275, freq='D')\n"
          ]
        }
      ]
    },
    {
      "cell_type": "markdown",
      "source": [
        "### 10. Create 2D list to DataFrame"
      ],
      "metadata": {
        "id": "-ZAGUYxwPODk"
      }
    },
    {
      "cell_type": "code",
      "source": [
        "lists = [[1, 'aaa', 22], [2, 'bbb', 25], [3, 'ccc', 24]]\n",
        "df = pd.DataFrame(lists, columns =['Index','Name', 'number'])\n",
        "print(df)"
      ],
      "metadata": {
        "colab": {
          "base_uri": "https://localhost:8080/"
        },
        "id": "ZJi1HVxEPNaL",
        "outputId": "7d2ebe41-f8f7-4fd6-9358-ee68cc8456d1"
      },
      "execution_count": 13,
      "outputs": [
        {
          "output_type": "stream",
          "name": "stdout",
          "text": [
            "   Index Name  number\n",
            "0      1  aaa      22\n",
            "1      2  bbb      25\n",
            "2      3  ccc      24\n"
          ]
        }
      ]
    }
  ]
}